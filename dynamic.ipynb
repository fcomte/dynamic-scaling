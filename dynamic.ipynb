{
 "cells": [
  {
   "cell_type": "code",
   "execution_count": null,
   "id": "cac7cf1b-60e6-4d50-b3a3-73bef6a2fc73",
   "metadata": {},
   "outputs": [],
   "source": [
    "import os\n",
    "from pyspark.sql import SparkSession\n",
    "\n",
    "spark = (SparkSession \n",
    "         .builder\n",
    "         .getOrCreate()\n",
    "        )\n"
   ]
  },
  {
   "cell_type": "code",
   "execution_count": null,
   "id": "fb68fc0c-da29-4ba4-a3e1-777599105390",
   "metadata": {},
   "outputs": [],
   "source": [
    "df = (spark.read\n",
    "      .format(\"csv\")\n",
    "      .options(header='true', inferschema='true', delimiter=',')\n",
    "      .load(\"s3a://projet-spark-lab/diffusion/formation/data/sirene/sirene.csv\")\n",
    "     )\n",
    "df.createOrReplaceTempView(\"sirene\")\n",
    "spark.sql('SELECT count(*) as tot , activitePrincipaleEtablissement FROM sirene group by activitePrincipaleEtablissement order by tot desc LIMIT 10').show()\n",
    "spark.sql(\n",
    "    \"select count(*) as total, activitePrincipaleEtablissement, word from (\"+\n",
    "    \" SELECT activitePrincipaleEtablissement,explode(split(denominationUsuelleEtablissement,' ')) as word \"+\n",
    "    \" FROM sirene where denominationUsuelleEtablissement is not null)\"+\n",
    "    \" where length(word)>4\"+\n",
    "    \" group by activitePrincipaleEtablissement,word order by total desc\").show()"
   ]
  }
 ],
 "metadata": {
  "kernelspec": {
   "display_name": "Python 3 (ipykernel)",
   "language": "python",
   "name": "python3"
  },
  "language_info": {
   "codemirror_mode": {
    "name": "ipython",
    "version": 3
   },
   "file_extension": ".py",
   "mimetype": "text/x-python",
   "name": "python",
   "nbconvert_exporter": "python",
   "pygments_lexer": "ipython3",
   "version": "3.10.8"
  }
 },
 "nbformat": 4,
 "nbformat_minor": 5
}
